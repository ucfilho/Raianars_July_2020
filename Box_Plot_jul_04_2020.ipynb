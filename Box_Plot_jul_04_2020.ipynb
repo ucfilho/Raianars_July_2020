{
  "nbformat": 4,
  "nbformat_minor": 0,
  "metadata": {
    "colab": {
      "name": "Box_Plot_jul_04_2020.ipynb",
      "provenance": [],
      "authorship_tag": "ABX9TyPWlQhPj4QkNv03dPMKCCw1",
      "include_colab_link": true
    },
    "kernelspec": {
      "name": "python3",
      "display_name": "Python 3"
    }
  },
  "cells": [
    {
      "cell_type": "markdown",
      "metadata": {
        "id": "view-in-github",
        "colab_type": "text"
      },
      "source": [
        "<a href=\"https://colab.research.google.com/github/ucfilho/Raianars_July_2020/blob/master/Box_Plot_jul_04_2020.ipynb\" target=\"_parent\"><img src=\"https://colab.research.google.com/assets/colab-badge.svg\" alt=\"Open In Colab\"/></a>"
      ]
    },
    {
      "cell_type": "code",
      "metadata": {
        "id": "gh7aFoUNi0iq",
        "colab_type": "code",
        "colab": {
          "base_uri": "https://localhost:8080/",
          "height": 283
        },
        "outputId": "5c63a296-3950-45a8-d742-fe97859f7898"
      },
      "source": [
        "import matplotlib.pyplot as plt\n",
        "import numpy as np\n",
        "\n",
        "# construct some data like what you have:\n",
        "x = np.random.randn(100, 8)\n",
        "mins = x.min(0)\n",
        "maxes = x.max(0)\n",
        "means = x.mean(0)\n",
        "std = x.std(0)\n",
        "\n",
        "# create stacked errorbars:\n",
        "plt.errorbar(np.arange(8), means, std, fmt='ok', lw=3)"
      ],
      "execution_count": 1,
      "outputs": [
        {
          "output_type": "execute_result",
          "data": {
            "text/plain": [
              "<ErrorbarContainer object of 3 artists>"
            ]
          },
          "metadata": {
            "tags": []
          },
          "execution_count": 1
        },
        {
          "output_type": "display_data",
          "data": {
            "image/png": "[encoded data removed]",
            "text/plain": [
              "<Figure size 432x288 with 1 Axes>"
            ]
          },
          "metadata": {
            "tags": [],
            "needs_background": "light"
          }
        }
      ]
    }
  ]
}