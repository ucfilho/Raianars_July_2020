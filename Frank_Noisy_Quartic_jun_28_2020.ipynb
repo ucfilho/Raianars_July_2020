{
  "nbformat": 4,
  "nbformat_minor": 0,
  "metadata": {
    "colab": {
      "name": "Frank_Noisy_Quartic_jun_28_2020.ipynb",
      "provenance": [],
      "collapsed_sections": [],
      "include_colab_link": true
    },
    "kernelspec": {
      "name": "python3",
      "display_name": "Python 3"
    },
    "language_info": {
      "codemirror_mode": {
        "name": "ipython",
        "version": 3
      },
      "file_extension": ".py",
      "mimetype": "text/x-python",
      "name": "python",
      "nbconvert_exporter": "python",
      "pygments_lexer": "ipython3",
      "version": "3.7.3"
    },
    "accelerator": "GPU"
  },
  "cells": [
    {
      "cell_type": "markdown",
      "metadata": {
        "id": "view-in-github",
        "colab_type": "text"
      },
      "source": [
        "<a href=\"https://colab.research.google.com/github/ucfilho/Raianars_July_2020/blob/master/Frank_Noisy_Quartic_jun_28_2020.ipynb\" target=\"_parent\"><img src=\"https://colab.research.google.com/assets/colab-badge.svg\" alt=\"Open In Colab\"/></a>"
      ]
    },
    {
      "cell_type": "code",
      "metadata": {
        "id": "cG5nOUQ9Eucw",
        "colab_type": "code",
        "colab": {}
      },
      "source": [
        "# Noisy_Quartic\n",
        "# In the paper Ngen=3000\n",
        "# JADE: Adaptive Differential Evolution with Optional External Archive"
      ],
      "execution_count": 1,
      "outputs": []
    },
    {
      "cell_type": "code",
      "metadata": {
        "id": "Va-6Xios8RjU",
        "colab_type": "code",
        "colab": {
          "base_uri": "https://localhost:8080/",
          "height": 54
        },
        "outputId": "8f41b230-e300-4904-cd2d-150a3b447fa0"
      },
      "source": [
        "!git clone https://github.com/ucfilho/Raianars_July_2020 #clonar do Github\n",
        "%cd Raianars_July_2020"
      ],
      "execution_count": 2,
      "outputs": [
        {
          "output_type": "stream",
          "text": [
            "fatal: destination path 'Raianars_July_2020' already exists and is not an empty directory.\n",
            "/content/Raianars_July_2020\n"
          ],
          "name": "stdout"
        }
      ]
    },
    {
      "cell_type": "code",
      "metadata": {
        "id": "_E15mKFURR6O",
        "colab_type": "code",
        "colab": {}
      },
      "source": [
        "import Go2Ann\n",
        "import de_soma_Insight\n",
        "import de_bounds_matriz\n",
        "import Function\n",
        "import Go2MinMax\n",
        "from AvaliaX import AvaliaX\n",
        "from GeraIndices import GeraIndices\n",
        "\n",
        "############################### DADOS DE ENTRADA \n",
        "RUNS=50 #NÚMERO DE RODADAS\n",
        "Fc=0.1 # fator de correcao parametros da ANN\n",
        "its=1 #10 # quantas vezes vai usar o NPAR antes de alterar de novo\n",
        "ITE=3000 #10 # PONTOS quantas vezes vai alteral NPAR \n",
        "NPAR=100\n",
        "mut=0.5\n",
        "crossp=0.5\n",
        "Fi=mut;CRi=crossp;# para impressão\n",
        "\n",
        "############################### Função\n",
        "dim=30\n",
        "\n",
        "#fchoice='Rastrigin' #fchoice='Michalewicz' #fchoice='Schwefel'\n",
        "fchoice='Noisy_Quartic'\n",
        "Fun=Function.Noisy_Quartic\n",
        "\n",
        "MIN,MAX=Go2MinMax.Intervalo(dim,fchoice)\n",
        "PAR=len(MAX) #NUM DE PARAMETROS A SER OTIMIZADOS\n"
      ],
      "execution_count": 3,
      "outputs": []
    },
    {
      "cell_type": "code",
      "metadata": {
        "colab_type": "code",
        "id": "v1OxgXboBKoG",
        "colab": {}
      },
      "source": [
        "import time\n",
        "import matplotlib.pyplot as plt\n",
        "import numpy as np\n",
        "from random import randint\n",
        "from scipy import optimize\n",
        "import pandas as pd\n",
        "from sklearn.metrics import confusion_matrix"
      ],
      "execution_count": 4,
      "outputs": []
    },
    {
      "cell_type": "code",
      "metadata": {
        "id": "qTINtQ1cosZK",
        "colab_type": "code",
        "colab": {
          "base_uri": "https://localhost:8080/",
          "height": 54
        },
        "outputId": "01624e62-fe06-40b1-e564-8dd662afa7c6"
      },
      "source": [
        "!git clone https://github.com/ucfilho/ANN_read_matrix #clonar do Github\n",
        "%cd ANN_read_matrix"
      ],
      "execution_count": 5,
      "outputs": [
        {
          "output_type": "stream",
          "text": [
            "fatal: destination path 'ANN_read_matrix' already exists and is not an empty directory.\n",
            "/content/Raianars_July_2020/ANN_read_matrix\n"
          ],
          "name": "stdout"
        }
      ]
    },
    {
      "cell_type": "code",
      "metadata": {
        "id": "QiQLYOoNoyCw",
        "colab_type": "code",
        "colab": {}
      },
      "source": [
        "ANN_F=pd.read_csv('ANN_INSIGHT_Valor_F.csv')"
      ],
      "execution_count": 6,
      "outputs": []
    },
    {
      "cell_type": "code",
      "metadata": {
        "id": "uHtW2amaDzFv",
        "colab_type": "code",
        "colab": {}
      },
      "source": [
        "ANN_CR=pd.read_csv('ANN_INSIGHT_CR.csv')"
      ],
      "execution_count": 7,
      "outputs": []
    },
    {
      "cell_type": "code",
      "metadata": {
        "id": "EH6h_vke2yu1",
        "colab_type": "code",
        "colab": {}
      },
      "source": [
        "syn0_F,syn1_F,X_max_F,X_min_F=Go2Ann.GetMatriz(ANN_F)"
      ],
      "execution_count": 8,
      "outputs": []
    },
    {
      "cell_type": "code",
      "metadata": {
        "id": "WW_3ZWJXD60i",
        "colab_type": "code",
        "colab": {}
      },
      "source": [
        "syn0_CR,syn1_CR,X_max_CR,X_min_CR=Go2Ann.GetMatriz(ANN_CR)"
      ],
      "execution_count": 9,
      "outputs": []
    },
    {
      "cell_type": "code",
      "metadata": {
        "id": "b4gwBvVTyaXh",
        "colab_type": "code",
        "colab": {}
      },
      "source": [
        "ANN_CR=pd.read_csv('ANN_INSIGHT_CR.csv')"
      ],
      "execution_count": 10,
      "outputs": []
    },
    {
      "cell_type": "code",
      "metadata": {
        "id": "6jL8MxpHvk-Y",
        "colab_type": "code",
        "colab": {}
      },
      "source": [
        "fields = ['DI RELATIVO','FRAC Its','Fo','CRo']"
      ],
      "execution_count": 11,
      "outputs": []
    },
    {
      "cell_type": "code",
      "metadata": {
        "id": "Mb3LmbSmj9v7",
        "colab_type": "code",
        "colab": {}
      },
      "source": [
        "##################################### \n",
        "\n",
        "#TOTAL=7*dim*its*ITE\n",
        "TOTAL=10*dim*its*ITE\n",
        "#TOTAL=int(TOTAL/2)   # CONFERIR SE ESTE EH O MELHOR LUGAR\n",
        "\n",
        "dimensions=len(MAX)\n",
        "start_time = time.time() #INICIALIZA CONTAGEM DO TEMPO\n",
        "\n",
        "p=int(TOTAL/its/ITE)\n",
        "#p=int(p/2) \n",
        "#NPAR=p\n",
        "\n",
        "MAX_P=np.zeros(ITE) # ATENCAO para variar F e Cr MAX_P passa a ser 3 vezes maior\n",
        "MIN_P=np.zeros(ITE) # ATENCAO para variar F e Cr MIN_P passa a ser 3 vezes maior\n",
        "\n",
        "for i in range(dim):\n",
        "  MAX_P[i]=MAX[i] \n",
        "  MIN_P[i]=MIN[i]\n",
        "\n",
        "rodadas=1\n",
        "for i in range(rodadas):\n",
        "  SOMA=0\n",
        "  pop = np.random.rand(NPAR, dimensions)\n",
        "  diff=np.zeros(PAR)\n",
        "  for ii in range(PAR):\n",
        "    diff[ii] = MAX[ii]-MIN[ii]\n",
        "  X = MIN + pop * diff\n",
        "    \n",
        "  PONTOS=ITE # DIVISOES DA POPULACAO\n",
        " \n",
        " ############################################################\n",
        "  #bounds=[(5*dim, 15*dim)] * PONTOS # ITE\n",
        "  #bounds=[(3*dim, 12*dim)] * PONTOS # ITE\n",
        "  #bounds=[(4*dim, 16*dim)] * PONTOS\n",
        "  \n",
        "  # nao pode ser assim pq o bounds vale p o DE nao dos parametros\n",
        "  #p=int(TOTAL/its/ITE) \n",
        "  bounds=[(p, p)] * PONTOS\n",
        "\n",
        "\n"
      ],
      "execution_count": 12,
      "outputs": []
    },
    {
      "cell_type": "code",
      "metadata": {
        "id": "rnX8ttNopd1G",
        "colab_type": "code",
        "colab": {
          "base_uri": "https://localhost:8080/",
          "height": 926
        },
        "outputId": "8857712a-fda5-4b89-c78c-149e2aa82251"
      },
      "source": [
        "#NPAR=int(NPAR/2)\n",
        "start_time = time.time()\n",
        "BEST_AGENTS=[]\n",
        "MAT_stat=[]\n",
        "for i in range(RUNS):\n",
        "    MAT=[] \n",
        "    mut=Fi\n",
        "    crossp=CRi\n",
        "    SOMA=0\n",
        "    SOMAf=0\n",
        "    start_ite = time.time()\n",
        "    delta_time=(start_ite-start_time)/60\n",
        "    \n",
        "    pop = np.random.rand(NPAR, dim)\n",
        "    diff=np.zeros(PAR)\n",
        "    for ii in range(PAR):\n",
        "      diff[ii] = MAX[ii]-MIN[ii]\n",
        "    X = MIN + pop * diff\n",
        "    Xf = MIN + pop * diff\n",
        "    \n",
        "    DIo=1e99\n",
        "  \n",
        "    CRo=crossp;Fo=mut;\n",
        "    Fitness = np.asarray([Fun(ind) for ind in X])\n",
        "\n",
        "    XY,BEST_XY,BESTo,FOBESTo=AvaliaX(X,Fitness)\n",
        "    nrow,ncol=X.shape\n",
        "\n",
        "    QUANT=17;MAT_INDo=np.zeros((1,QUANT)); # quantos indices esta fazendo\n",
        "    MAT_INDo[0,5]=nrow  # VALOR NP\n",
        "    MAT_INDo[0,6]=Fo    # VALOR Fo   \n",
        "    MAT_INDo[0,7]=CRo   # VALOR CRo\n",
        "  \n",
        "    MAT_INDo=GeraIndices(X,BESTo,FOBESTo,DIo,MAT_INDo,SOMA,TOTAL,syn0_F,\n",
        "                        syn1_F,X_max_F,X_min_F,syn0_CR,syn1_CR,X_max_CR,\n",
        "                        X_min_CR,Fc,fields,Fun)\n",
        "  \n",
        "    DIo=np.copy(MAT_INDo[0,0])\n",
        "    MAT_INDo[0,15]=Fo    # VALOR Fo   \n",
        "    MAT_INDo[0,16]=CRo   # VALOR CRo\n",
        "    #ind_crossp=ITE-1\n",
        "\n",
        "    \n",
        "    for k in range(ITE):\n",
        "      X,BEST,FOBEST,XY,BEST_XY,SOMA= de_soma_Insight.de(MAX,MIN, mut, crossp,NPAR,its,Fun,X,SOMA,TOTAL)\n",
        "      #Xf,BESTf,FOBESTf,XYf,BEST_XYf,SOMAf= de_soma_Insight.de(MAX,MIN, Fi, CRi, NPAR,its,Fun,Xf,SOMAf,TOTAL)\n",
        "\n",
        "      \n",
        "      MAT_IND=GeraIndices(X,BESTo,FOBESTo,DIo,MAT_INDo,SOMA,TOTAL,syn0_F,\n",
        "                          syn1_F,X_max_F,X_min_F,syn0_CR,syn1_CR,X_max_CR,\n",
        "                          X_min_CR,Fc,fields,Fun)\n",
        "    \n",
        "      BESTo=np.copy(BEST);FOBESTo=np.copy(FOBEST);\n",
        "      MAT.append(MAT_IND.ravel())\n",
        "    \n",
        "      MAT_INDo[0,6]=MAT_IND[0,15]   # VALOR Fo   \n",
        "      MAT_INDo[0,7]=MAT_IND[0,16]   # VALOR CRo\n",
        "      mut=MAT_IND[0,15]\n",
        "      crossp=MAT_IND[0,16]\n",
        "\n",
        "      Fitness = np.asarray([Fun(ind) for ind in X])\n",
        "      #Fitnessf = np.asarray([Fun(ind) for ind in Xf])\n",
        "      Maior=np.argmax(Fitness)\n",
        "      #Maiorf=np.argmax(Fitnessf)\n",
        "      Menor=np.argmin(Fitness)\n",
        "      #Menorf=np.argmin(Fitnessf)\n",
        "\n",
        "      #X[Maior,:]=np.copy(Xf[Menorf,:])\n",
        "      #Xf[Maiorf,:]=np.copy(X[Menor,:])\n",
        "      \n",
        "    BEST_AGENTS.append(BEST_XY)\n",
        "    MAT_stat.append(MAT)\n",
        "    #print(\"GlobalParam e Solucao:\", BEST,\"Funcao=\",FOBEST)\n",
        "    print('ite=',i,'total=50','time=',delta_time,\"Funcao=\",FOBEST)\n",
        "############################## Cálculo dos Parâmetros de Avaliação   \n",
        "TIME = (time.time() - start_time)/RUNS\n",
        "BEST_AGENTS=np.array(BEST_AGENTS)\n",
        "BEST_AGENTS_ST= BEST_AGENTS[BEST_AGENTS[:,-1].argsort()]\n",
        "BEST=BEST_AGENTS_ST[0]\n",
        "WORSE=BEST_AGENTS_ST[-1]\n",
        "MEAN=np.mean(BEST_AGENTS,axis=0)\n",
        "MAXFO=BEST_AGENTS[:,-1].max()\n",
        "MINFO=BEST_AGENTS[:,-1].min()\n",
        "STD=BEST_AGENTS[:,-1].std()"
      ],
      "execution_count": 13,
      "outputs": [
        {
          "output_type": "stream",
          "text": [
            "ite= 0 total=50 time= 7.120768229166667e-06 Funcao= 0.2625804153022966\n",
            "ite= 1 total=50 time= 2.8533838192621865 Funcao= 0.13314664890795236\n",
            "ite= 2 total=50 time= 5.698968342940012 Funcao= 0.1831299161599719\n",
            "ite= 3 total=50 time= 8.550717822710673 Funcao= 0.25551617077208943\n",
            "ite= 4 total=50 time= 11.39569065173467 Funcao= 0.28725512165550654\n",
            "ite= 5 total=50 time= 14.248021074136098 Funcao= 0.27244082990773255\n",
            "ite= 6 total=50 time= 17.101242570082345 Funcao= 0.2507443304732628\n",
            "ite= 7 total=50 time= 19.96614878177643 Funcao= 0.18096883740634853\n",
            "ite= 8 total=50 time= 22.82302833398183 Funcao= 0.19507916467877442\n",
            "ite= 9 total=50 time= 25.69778983592987 Funcao= 0.16528547291533421\n",
            "ite= 10 total=50 time= 28.574930202960967 Funcao= 0.34582097764145775\n",
            "ite= 11 total=50 time= 31.44448867638906 Funcao= 0.08320098795851685\n",
            "ite= 12 total=50 time= 34.33697797854742 Funcao= 0.24601146053767675\n",
            "ite= 13 total=50 time= 37.22006033261617 Funcao= 0.25340780712061006\n",
            "ite= 14 total=50 time= 40.10945610205332 Funcao= 0.18466568132664735\n",
            "ite= 15 total=50 time= 42.99924344619115 Funcao= 0.3421120106627643\n",
            "ite= 16 total=50 time= 45.89922477801641 Funcao= 0.2537200138448037\n",
            "ite= 17 total=50 time= 48.80069896380107 Funcao= 0.2531527517690269\n",
            "ite= 18 total=50 time= 51.689149578412376 Funcao= 0.27988757316272156\n",
            "ite= 19 total=50 time= 54.57907082637151 Funcao= 0.223951805651144\n",
            "ite= 20 total=50 time= 57.46025162935257 Funcao= 0.24488646036817013\n",
            "ite= 21 total=50 time= 60.375027910868326 Funcao= 0.14711063982539208\n",
            "ite= 22 total=50 time= 63.299624415238696 Funcao= 0.14775952471238007\n",
            "ite= 23 total=50 time= 66.24099756876628 Funcao= 0.20225959091964044\n",
            "ite= 24 total=50 time= 69.17582677602768 Funcao= 0.27777132672326244\n",
            "ite= 25 total=50 time= 72.12705880403519 Funcao= 0.23029656035317483\n",
            "ite= 26 total=50 time= 75.07520625193914 Funcao= 0.21302949048687786\n",
            "ite= 27 total=50 time= 78.02354748646418 Funcao= 0.25286853219832184\n",
            "ite= 28 total=50 time= 81.00971987644832 Funcao= 0.16952610875006002\n",
            "ite= 29 total=50 time= 83.99140742619832 Funcao= 0.2712630891474146\n",
            "ite= 30 total=50 time= 86.98761865695317 Funcao= 0.12213859171880515\n",
            "ite= 31 total=50 time= 90.01895854473113 Funcao= 0.3057621268053385\n",
            "ite= 32 total=50 time= 93.01815019845962 Funcao= 0.17036329105374787\n",
            "ite= 33 total=50 time= 95.90658173163732 Funcao= 0.12732928542501937\n",
            "ite= 34 total=50 time= 98.76072328885397 Funcao= 0.17990244583737858\n",
            "ite= 35 total=50 time= 101.60828603506089 Funcao= 0.19099130205448225\n",
            "ite= 36 total=50 time= 104.43367655277252 Funcao= 0.2055592258951069\n",
            "ite= 37 total=50 time= 107.33850889603296 Funcao= 0.23761243248010533\n",
            "ite= 38 total=50 time= 110.17988716363907 Funcao= 0.23475347950810646\n",
            "ite= 39 total=50 time= 113.01252928177516 Funcao= 0.18446344457596128\n",
            "ite= 40 total=50 time= 115.85718580087025 Funcao= 0.08246215205900358\n",
            "ite= 41 total=50 time= 118.69606555302938 Funcao= 0.210534424168867\n",
            "ite= 42 total=50 time= 121.5266947388649 Funcao= 0.17950225117084223\n",
            "ite= 43 total=50 time= 124.34791207313538 Funcao= 0.16693567664867429\n",
            "ite= 44 total=50 time= 127.19227435588837 Funcao= 0.259190601933998\n",
            "ite= 45 total=50 time= 130.03366844256718 Funcao= 0.18277633097768067\n",
            "ite= 46 total=50 time= 132.89260406096776 Funcao= 0.24314651653232075\n",
            "ite= 47 total=50 time= 135.74065358638762 Funcao= 0.16662120664705865\n",
            "ite= 48 total=50 time= 138.58921850522358 Funcao= 0.25669762930552853\n",
            "ite= 49 total=50 time= 141.41422957976658 Funcao= 0.31904084847800596\n"
          ],
          "name": "stdout"
        }
      ]
    },
    {
      "cell_type": "code",
      "metadata": {
        "id": "bo29FybGhZBC",
        "colab_type": "code",
        "colab": {
          "base_uri": "https://localhost:8080/",
          "height": 108
        },
        "outputId": "9c0651c0-2ea8-4ecb-cd44-041600050e8a"
      },
      "source": [
        "Xkeep=Xf[Menor,:]\n",
        "print(Xkeep)"
      ],
      "execution_count": 14,
      "outputs": [
        {
          "output_type": "stream",
          "text": [
            "[-0.331021   -0.29331014 -0.95176251 -1.14390253 -0.20001081  0.52831893\n",
            "  0.94319586 -0.11142388 -0.70848433 -0.87331221  0.27162713  0.18554509\n",
            " -1.04478273  0.48080644  0.92035471 -0.99944745  0.82939922 -0.71210523\n",
            "  0.78695886 -0.22028257  0.90034533  0.10615857 -0.8932781  -0.9072584\n",
            "  0.0060426  -1.03060391 -0.92733479  0.3097727  -0.90158892 -0.30527073]\n"
          ],
          "name": "stdout"
        }
      ]
    },
    {
      "cell_type": "code",
      "metadata": {
        "id": "NmtWACLp9Cuy",
        "colab_type": "code",
        "colab": {
          "base_uri": "https://localhost:8080/",
          "height": 272
        },
        "outputId": "9d747f36-7968-4719-ffd6-458e8d757f88"
      },
      "source": [
        "print(pd.DataFrame(X))"
      ],
      "execution_count": 15,
      "outputs": [
        {
          "output_type": "stream",
          "text": [
            "          0         1         2   ...        27        28        29\n",
            "0   0.158059  0.085791 -0.360547  ... -0.269527 -0.096057 -0.133423\n",
            "1   0.073985 -0.067525 -0.320593  ...  0.016627 -0.041625  0.017695\n",
            "2  -0.154050  0.153667 -0.246576  ...  0.205790  0.034726  0.052458\n",
            "3   0.302387 -0.101992 -0.306390  ... -0.167838 -0.158104  0.062637\n",
            "4  -0.510513  0.186298 -0.175894  ...  0.066246 -0.061112  0.170678\n",
            "..       ...       ...       ...  ...       ...       ...       ...\n",
            "95  0.011744 -0.003680  0.023481  ...  0.114517 -0.113926 -0.129140\n",
            "96 -0.026088  0.051888  0.357628  ...  0.180929 -0.047677  0.243496\n",
            "97 -0.019476  0.219175 -0.228247  ...  0.038697  0.004634  0.223678\n",
            "98 -0.534013  0.029452 -0.322002  ...  0.242119 -0.008563  0.153822\n",
            "99 -0.017871 -0.026052 -0.351928  ...  0.125284 -0.049084 -0.005663\n",
            "\n",
            "[100 rows x 30 columns]\n"
          ],
          "name": "stdout"
        }
      ]
    },
    {
      "cell_type": "code",
      "metadata": {
        "id": "5gDOmRHCygU-",
        "colab_type": "code",
        "colab": {}
      },
      "source": [
        "# print(TOTAL)"
      ],
      "execution_count": 16,
      "outputs": []
    },
    {
      "cell_type": "code",
      "metadata": {
        "id": "k3p9TGsx1OCu",
        "colab_type": "code",
        "colab": {}
      },
      "source": [
        "NOMES=['DIVERSIDADE (DI)',  'DI RELATIVO','FRAC Its',\n",
        "           'VELOC FOBJ','VELOC X','NP','Fo','CRo','fmin','fmax',\n",
        "           'AD_fmin','AD_fmax','DELTA FOBJ','DELTA VX','r_fitness',\n",
        "           'F','CR']\n",
        "# BEST_INDEX= BEST_AGENTS[BEST_AGENTS[:,-1].argmin()]  \n",
        "BEST_INDEX = np.argmin(BEST_AGENTS[:,-1])\n",
        "df=pd.DataFrame(MAT_stat[BEST_INDEX], columns=NOMES)\n",
        "\n"
      ],
      "execution_count": 17,
      "outputs": []
    },
    {
      "cell_type": "code",
      "metadata": {
        "id": "jIHiKR_t1xxs",
        "colab_type": "code",
        "colab": {
          "base_uri": "https://localhost:8080/",
          "height": 745
        },
        "outputId": "20b6d5ad-9009-4588-d467-918e2681daed"
      },
      "source": [
        "pd.set_option('display.max_columns', 30)  \n",
        "print(df)"
      ],
      "execution_count": 18,
      "outputs": [
        {
          "output_type": "stream",
          "text": [
            "      DIVERSIDADE (DI)  DI RELATIVO  FRAC Its  VELOC FOBJ  VELOC X     NP  \\\n",
            "0             3.919187     0.978838  0.000111         1.0      0.0  100.0   \n",
            "1             3.842259     0.959625  0.000222         1.0      2.0  100.0   \n",
            "2             3.798206     0.948622  0.000333         1.0      0.0  100.0   \n",
            "3             3.721569     0.929482  0.000444         1.0      0.0  100.0   \n",
            "4             3.657920     0.913585  0.000556         1.0      0.0  100.0   \n",
            "...                ...          ...       ...         ...      ...    ...   \n",
            "2995          0.575539     0.143744  0.332889         1.0      2.0  100.0   \n",
            "2996          0.575062     0.143625  0.333000         1.0      2.0  100.0   \n",
            "2997          0.574261     0.143425  0.333111         1.0      2.0  100.0   \n",
            "2998          0.574145     0.143396  0.333222         1.0      2.0  100.0   \n",
            "2999          0.573594     0.143258  0.333333         1.0      2.0  100.0   \n",
            "\n",
            "            Fo       CRo       fmin        fmax  AD_fmin  AD_fmax  DELTA FOBJ  \\\n",
            "0     0.500000  0.500000  84.488059  426.616484      1.0      1.0         0.0   \n",
            "1     0.255291  0.336860  64.037583  415.094225      1.0      1.0         0.0   \n",
            "2     0.439028  0.229107  64.175764  374.885238      1.0      1.0         0.0   \n",
            "3     0.230792  0.156662  64.586294  374.454179      1.0      1.0         0.0   \n",
            "4     0.391680  0.229469  64.768336  374.687642      1.0      1.0         0.0   \n",
            "...        ...       ...        ...         ...      ...      ...         ...   \n",
            "2995  0.214417  0.001795   0.088532    1.139395      1.0      1.0         0.0   \n",
            "2996  0.183596  0.001859   0.140075    1.199053      1.0      1.0         0.0   \n",
            "2997  0.203372  0.001770   0.114614    1.159959      1.0      1.0         0.0   \n",
            "2998  0.174204  0.001834   0.119436    1.189867      1.0      1.0         0.0   \n",
            "2999  0.192939  0.001746   0.099654    1.235164      1.0      1.0         0.0   \n",
            "\n",
            "      DELTA VX  r_fitness         F        CR  \n",
            "0          0.0   0.801958  0.255291  0.336860  \n",
            "1          0.0   0.845728  0.439028  0.229107  \n",
            "2          0.0   0.828812  0.230792  0.156662  \n",
            "3          0.0   0.827519  0.391680  0.229469  \n",
            "4          0.0   0.827140  0.660055  0.159589  \n",
            "...        ...        ...       ...       ...  \n",
            "2995       0.0   0.922299  0.183596  0.001859  \n",
            "2996       0.0   0.883179  0.203372  0.001770  \n",
            "2997       0.0   0.901191  0.174204  0.001834  \n",
            "2998       0.0   0.899622  0.192939  0.001746  \n",
            "2999       0.0   0.919319  0.213669  0.001808  \n",
            "\n",
            "[3000 rows x 17 columns]\n"
          ],
          "name": "stdout"
        }
      ]
    },
    {
      "cell_type": "code",
      "metadata": {
        "id": "bx0ywpMtAAjw",
        "colab_type": "code",
        "colab": {
          "base_uri": "https://localhost:8080/",
          "height": 299
        },
        "outputId": "4c23965c-6467-470c-d9ca-544fb036e134"
      },
      "source": [
        "plt.plot(df['FRAC Its'],df['CR'])\n",
        "plt.xlabel('Iteração/Total')\n",
        "plt.ylabel('CR')"
      ],
      "execution_count": 19,
      "outputs": [
        {
          "output_type": "execute_result",
          "data": {
            "text/plain": [
              "Text(0, 0.5, 'CR')"
            ]
          },
          "metadata": {
            "tags": []
          },
          "execution_count": 19
        },
        {
          "output_type": "display_data",
          "data": {
            "image/png": "[encoded data removed]",
            "text/plain": [
              "<Figure size 432x288 with 1 Axes>"
            ]
          },
          "metadata": {
            "tags": [],
            "needs_background": "light"
          }
        }
      ]
    },
    {
      "cell_type": "code",
      "metadata": {
        "id": "BvPFvbDvteDC",
        "colab_type": "code",
        "colab": {
          "base_uri": "https://localhost:8080/",
          "height": 295
        },
        "outputId": "b32ce5f3-255d-44ec-c6c7-e9e14200bff4"
      },
      "source": [
        "\n",
        "fig, ax = plt.subplots()\n",
        "ax.plot(df['FRAC Its'],df['F'],label='F')\n",
        "ax.set_xlabel('Iteração/Total')\n",
        "ax.set_ylabel('Parâmetros')\n",
        "ax.plot(df['FRAC Its'],df['CR'],'-r', label='CR')\n",
        "nome=Fun.__name__+'  M=Diversidade'+ '  D='+str(dim)\n",
        "ax.set_title(nome)\n",
        "leg = ax.legend()\n"
      ],
      "execution_count": 20,
      "outputs": [
        {
          "output_type": "display_data",
          "data": {
            "image/png": "[encoded data removed]",
            "text/plain": [
              "<Figure size 432x288 with 1 Axes>"
            ]
          },
          "metadata": {
            "tags": [],
            "needs_background": "light"
          }
        }
      ]
    },
    {
      "cell_type": "code",
      "metadata": {
        "id": "htooaGpDia_0",
        "colab_type": "code",
        "colab": {
          "base_uri": "https://localhost:8080/",
          "height": 313
        },
        "outputId": "f815bdab-f189-4997-d544-4ee8cfac4687"
      },
      "source": [
        "f, axarr = plt.subplots(2, sharex=True)\n",
        "axarr[0].plot(df['FRAC Its'],df['F'])\n",
        "axarr[0].set_ylabel('F')\n",
        "axarr[1].plot(df['FRAC Its'],df['CR'])\n",
        "axarr[1].set_ylabel('CR')\n",
        "axarr[1].set_xlabel('Iteração/Total')\n",
        "nome=Fun.__name__+'_Diversidade_'+ 'D='+str(dim)\n",
        "axarr[0].set_title(nome)\n"
      ],
      "execution_count": 21,
      "outputs": [
        {
          "output_type": "execute_result",
          "data": {
            "text/plain": [
              "Text(0.5, 1.0, 'Noisy_Quartic_Diversidade_D=30')"
            ]
          },
          "metadata": {
            "tags": []
          },
          "execution_count": 21
        },
        {
          "output_type": "display_data",
          "data": {
            "image/png": "[encoded data removed]",
            "text/plain": [
              "<Figure size 432x288 with 2 Axes>"
            ]
          },
          "metadata": {
            "tags": [],
            "needs_background": "light"
          }
        }
      ]
    },
    {
      "cell_type": "code",
      "metadata": {
        "id": "lNSN5X-wskcx",
        "colab_type": "code",
        "colab": {
          "base_uri": "https://localhost:8080/",
          "height": 308
        },
        "outputId": "29ea0efd-431e-4523-d34b-3b3366a37193"
      },
      "source": [
        "nome='_ANN_Div3x4_Fo-'+str(Fi)+'_CRo-'+str(CRi)+'_D-'+str(dim)+'_Interv-'+str(ITE)\n",
        "print('DE_POP_VAR_F_CR','TOTAL=',TOTAL,'Iterações=',ITE*its,'Dim=', PAR,\"Min/Max=\",MIN[0],\"/\",MAX[0],'_',Fun.__name__)\n",
        "print(nome, '\\n')\n",
        "#print('BEST: ',BEST)\n",
        "#print('MÉDIA: ',MEAN)\n",
        "print('MÉDIA: ',MEAN[-1])\n",
        "print('MIN __:',MINFO)\n",
        "print('MAX__: ',MAXFO)\n",
        "print('STD __:',STD)\n",
        "print(\"Tempo Médio= %.3f segundos ---\" % (TIME))\n",
        "print(RUNS,'Rodadas') \n",
        "print()\n",
        "print('BEST: ',BEST)\n",
        "# print('melhor=',BEST_AGENTS[BEST_INDEX])"
      ],
      "execution_count": 22,
      "outputs": [
        {
          "output_type": "stream",
          "text": [
            "DE_POP_VAR_F_CR TOTAL= 900000 Iterações= 3000 Dim= 30 Min/Max= -1.28 / 1.28 _ Noisy_Quartic\n",
            "_ANN_Div3x4_Fo-0.5_CRo-0.5_D-30_Interv-3000 \n",
            "\n",
            "MÉDIA:  0.21669265129230714\n",
            "MIN __: 0.08246215205900358\n",
            "MAX__:  0.34582097764145775\n",
            "STD __: 0.05961428947214622\n",
            "Tempo Médio= 173.109 segundos ---\n",
            "50 Rodadas\n",
            "\n",
            "BEST:  [ 0.28143531  0.00040915 -0.03193751 -0.16511282 -0.00843366  0.01283293\n",
            "  0.08165892 -0.00812063 -0.08871304  0.18128762  0.09595969 -0.09707635\n",
            " -0.13908219  0.10477164 -0.0230867  -0.03547656  0.08798253 -0.14933439\n",
            " -0.02723065 -0.05368313  0.00966738 -0.06306881 -0.0700475   0.08929105\n",
            " -0.06762783 -0.1032516   0.05242319 -0.09362545  0.09973333 -0.06657949\n",
            "  0.08246215]\n"
          ],
          "name": "stdout"
        }
      ]
    },
    {
      "cell_type": "code",
      "metadata": {
        "id": "aPPrDD5-_X6F",
        "colab_type": "code",
        "colab": {}
      },
      "source": [
        ""
      ],
      "execution_count": 22,
      "outputs": []
    }
  ]
}