{
  "nbformat": 4,
  "nbformat_minor": 0,
  "metadata": {
    "accelerator": "GPU",
    "colab": {
      "name": "DE_diversity_FakeRosenbrock_jul_10_2020.ipynb",
      "provenance": [],
      "collapsed_sections": [],
      "include_colab_link": true
    },
    "kernelspec": {
      "display_name": "Python 3",
      "language": "python",
      "name": "python3"
    },
    "language_info": {
      "codemirror_mode": {
        "name": "ipython",
        "version": 3
      },
      "file_extension": ".py",
      "mimetype": "text/x-python",
      "name": "python",
      "nbconvert_exporter": "python",
      "pygments_lexer": "ipython3",
      "version": "3.6.1"
    }
  },
  "cells": [
    {
      "cell_type": "markdown",
      "metadata": {
        "id": "view-in-github",
        "colab_type": "text"
      },
      "source": [
        "<a href=\"https://colab.research.google.com/github/ucfilho/Raianars_July_2020/blob/master/DE_diversity_FakeRosenbrock_jul_10_2020.ipynb\" target=\"_parent\"><img src=\"https://colab.research.google.com/assets/colab-badge.svg\" alt=\"Open In Colab\"/></a>"
      ]
    },
    {
      "cell_type": "code",
      "metadata": {
        "id": "v1OxgXboBKoG"
      },
      "source": [
        "import time\n",
        "import matplotlib.pyplot as plt\n",
        "import numpy as np\n",
        "from random import randint\n",
        "import pandas as pd\n",
        "import matplotlib.pyplot as plt"
      ],
      "execution_count": 1,
      "outputs": []
    },
    {
      "cell_type": "code",
      "metadata": {
        "id": "qMRpE0dGULCI",
        "outputId": "e51dbeb6-786a-4916-b233-f74f5c171d33",
        "colab": {
          "base_uri": "https://localhost:8080/"
        }
      },
      "source": [
        "!git clone https://github.com/ucfilho/Raianars_July_2020 #clonar do Github\n",
        "%cd Raianars_July_2020"
      ],
      "execution_count": 2,
      "outputs": [
        {
          "output_type": "stream",
          "text": [
            "Cloning into 'Raianars_July_2020'...\n",
            "remote: Enumerating objects: 43, done.\u001b[K\n",
            "remote: Counting objects: 100% (43/43), done.\u001b[K\n",
            "remote: Compressing objects: 100% (43/43), done.\u001b[K\n",
            "remote: Total 166 (delta 21), reused 0 (delta 0), pack-reused 123\u001b[K\n",
            "Receiving objects: 100% (166/166), 324.96 KiB | 11.21 MiB/s, done.\n",
            "Resolving deltas: 100% (83/83), done.\n",
            "/content/Raianars_July_2020\n"
          ],
          "name": "stdout"
        }
      ]
    },
    {
      "cell_type": "code",
      "metadata": {
        "id": "_E15mKFURR6O"
      },
      "source": [
        "import de_soma_Insight\n",
        "import de_bounds_matriz\n",
        "import Function\n",
        "import Go2MinMax\n",
        "from AvaliaX import AvaliaX\n",
        "\n",
        "\n",
        "############################### DADOS DE ENTRADA \n",
        "its=1 #10 # quantas vezes vai usar o NPAR antes de alterar de novo\n",
        "ITE=100 #10 # PONTOS quantas vezes vai alteral NPAR \n",
        "NPAR=20 # NUMBER OF PARTICLES\n",
        "\n",
        "\n",
        "\n",
        "mut=0.5\n",
        "crossp=0.5\n",
        "RUNS=5\n",
        "Dimension=[5,10,15,20,30]\n",
        "\n",
        "\n",
        "\n",
        "SOMA=0"
      ],
      "execution_count": 3,
      "outputs": []
    },
    {
      "cell_type": "code",
      "metadata": {
        "id": "JMSnGtTwQ51s"
      },
      "source": [
        "def Diversity(X):\n",
        "  soma=0\n",
        "  nrow,ncol=X.shape\n",
        "  for j in range(ncol):\n",
        "    Xj=np.mean(X[:,j])\n",
        "    for i in range(nrow):\n",
        "        soma=soma+(X[i,j]-Xj)**2\n",
        "  DI=(soma/nrow)**0.5\n",
        "  return DI"
      ],
      "execution_count": 4,
      "outputs": []
    },
    {
      "cell_type": "code",
      "metadata": {
        "id": "5D-wTmX6SZ4j",
        "outputId": "6789d716-333c-430e-ffbd-48a42b19291d",
        "colab": {
          "base_uri": "https://localhost:8080/"
        }
      },
      "source": [
        "start_time = time.time()\n",
        "BEST_AGENTS=[]\n",
        "MAT_Div=[]\n",
        "\n",
        "for i in range(RUNS):\n",
        "\n",
        "    #fchoice='Fake_Rosenbrock'  \n",
        "    #Fun=Function.Fake_Rosenbrock\n",
        "    fchoice='Rosenbrock'  \n",
        "    Fun=Function.Rosenbrock\n",
        "    \n",
        "\n",
        "    dim=Dimension[i]\n",
        "    \n",
        "    TOTAL=10*dim*its*ITE\n",
        "\n",
        "    \n",
        "\n",
        "    MIN,MAX=Go2MinMax.Intervalo(dim,fchoice)\n",
        "\n",
        "    pop = np.random.rand(NPAR, dim)\n",
        "    diff=np.zeros(dim)\n",
        "    for ii in range(dim):\n",
        "      diff[ii] = MAX[ii]-MIN[ii]\n",
        "    X = MIN + pop * diff\n",
        "    Div_initial=Diversity(X)\n",
        "    #print('=====',X[1,1],'======')\n",
        "    \n",
        "    Div_dim=[]\n",
        "    BEST_AGENTS=[]\n",
        "    SOMA=0\n",
        "\n",
        "    print('dimension=',dim)\n",
        "    print('========',len(MAX),'========')\n",
        "\n",
        "    for k in range(ITE):\n",
        "      X,BEST,FOBEST,XY,BEST_XY,SOMA= de_soma_Insight.de(MAX,MIN, mut, crossp,NPAR,its,Fun,X,SOMA,TOTAL)\n",
        "      \n",
        "      if((k+1)%1==0):\n",
        "        #print(X[1,1])\n",
        "        Div_time=Diversity(X)\n",
        "        DI=Div_time/Div_initial\n",
        "        Div_dim.append(DI)\n",
        "\n",
        "    BEST_AGENTS.append(BEST_XY)    \n",
        "    MAT_Div.append(Div_dim)\n",
        "    start_run = (time.time()-start_time)/60\n",
        "    print('run=',i,'total=50','Fobj=',FOBEST,'Time=',start_run)  \n",
        "    \n",
        "\n",
        "    ############################## Cálculo dos Parâmetros de Avaliação   \n",
        "    TIME = (time.time() - start_time)/RUNS\n",
        "    BEST_AGENTS=np.array(BEST_AGENTS)\n",
        "    BEST_AGENTS_ST= BEST_AGENTS[BEST_AGENTS[:,-1].argsort()]\n",
        "    BEST=BEST_AGENTS_ST[0]\n",
        "    WORSE=BEST_AGENTS_ST[-1]\n",
        "    MEAN=np.mean(BEST_AGENTS,axis=0)\n",
        "    MAXFO=BEST_AGENTS[:,-1].max()\n",
        "    MINFO=BEST_AGENTS[:,-1].min()\n",
        "    STD=BEST_AGENTS[:,-1].std()\n",
        "\n",
        "    nome='_DE_STAT_Fo-'+str(mut)+'_CRo-'+str(crossp)+'_D-'+str(dim)+'_Interv-'+str(ITE)\n",
        "    print('DE_POP_VAR_F_CR','TOTAL=',TOTAL,'Iterações=',ITE*its,'Dim=', dim,\"Min/Max=\",MIN[0],\"/\",MAX[0],'_',Fun.__name__)\n",
        "    print(nome, '\\n')\n",
        "    #print('BEST: ',BEST)\n",
        "    #print('MÉDIA: ',MEAN)\n",
        "    print('MÉDIA: ',MEAN[-1])\n",
        "    print('MIN __:',MINFO)\n",
        "    print('MAX__: ',MAXFO)\n",
        "    print('STD __:',STD)\n",
        "    print(\"Tempo Médio= %.3f segundos ---\" % (TIME))\n",
        "    print(RUNS,'Rodadas') \n",
        "    print()\n",
        "    print('BEST: ',BEST)\n",
        "    # print('melhor=',BEST_AGENTS[BEST_INDEX])"
      ],
      "execution_count": 5,
      "outputs": [
        {
          "output_type": "stream",
          "text": [
            "dimension= 5\n",
            "======== 5 ========\n",
            "run= 0 total=50 Fobj= 1.5321340851401533 Time= 0.003920960426330567\n",
            "DE_POP_VAR_F_CR TOTAL= 5000 Iterações= 100 Dim= 5 Min/Max= -10 / 10 _ Rosenbrock\n",
            "_DE_STAT_Fo-0.5_CRo-0.5_D-5_Interv-100 \n",
            "\n",
            "MÉDIA:  1.5321340851401533\n",
            "MIN __: 1.5321340851401533\n",
            "MAX__:  1.5321340851401533\n",
            "STD __: 0.0\n",
            "Tempo Médio= 0.047 segundos ---\n",
            "5 Rodadas\n",
            "\n",
            "BEST:  [7.56374462e-01 5.93801317e-01 3.37460025e-01 1.13491391e-01\n",
            " 1.52026767e-03 1.53213409e+00]\n",
            "dimension= 10\n",
            "======== 10 ========\n",
            "run= 1 total=50 Fobj= 24.165189596880026 Time= 0.010202113787333171\n",
            "DE_POP_VAR_F_CR TOTAL= 10000 Iterações= 100 Dim= 10 Min/Max= -10 / 10 _ Rosenbrock\n",
            "_DE_STAT_Fo-0.5_CRo-0.5_D-10_Interv-100 \n",
            "\n",
            "MÉDIA:  24.165189596880026\n",
            "MIN __: 24.165189596880026\n",
            "MAX__:  24.165189596880026\n",
            "STD __: 0.0\n",
            "Tempo Médio= 0.122 segundos ---\n",
            "5 Rodadas\n",
            "\n",
            "BEST:  [ 3.32368387e-01  1.64322298e-01  1.36196324e-01 -4.75692497e-02\n",
            "  4.13756327e-02  7.46431154e-03 -6.20379031e-02  3.75274148e-01\n",
            "  1.96028169e-01  1.12395280e-01  2.41651896e+01]\n",
            "dimension= 15\n",
            "======== 15 ========\n",
            "run= 2 total=50 Fobj= 105.68844094452953 Time= 0.018992793560028077\n",
            "DE_POP_VAR_F_CR TOTAL= 15000 Iterações= 100 Dim= 15 Min/Max= -10 / 10 _ Rosenbrock\n",
            "_DE_STAT_Fo-0.5_CRo-0.5_D-15_Interv-100 \n",
            "\n",
            "MÉDIA:  105.68844094452953\n",
            "MIN __: 105.68844094452953\n",
            "MAX__:  105.68844094452953\n",
            "STD __: 0.0\n",
            "Tempo Médio= 0.228 segundos ---\n",
            "5 Rodadas\n",
            "\n",
            "BEST:  [  0.75523897   0.68214156   0.69547318   0.50589844   0.50009838\n",
            "   0.5870534    0.3355744    0.22024157   0.28068437   0.7063738\n",
            "   0.76563268   0.80967181   0.40078298   0.41335607   0.44441815\n",
            " 105.68844094]\n",
            "dimension= 20\n",
            "======== 20 ========\n",
            "run= 3 total=50 Fobj= 388.4340422091457 Time= 0.030070233345031738\n",
            "DE_POP_VAR_F_CR TOTAL= 20000 Iterações= 100 Dim= 20 Min/Max= -10 / 10 _ Rosenbrock\n",
            "_DE_STAT_Fo-0.5_CRo-0.5_D-20_Interv-100 \n",
            "\n",
            "MÉDIA:  388.4340422091457\n",
            "MIN __: 388.4340422091457\n",
            "MAX__:  388.4340422091457\n",
            "STD __: 0.0\n",
            "Tempo Médio= 0.361 segundos ---\n",
            "5 Rodadas\n",
            "\n",
            "BEST:  [-2.03118868e-01  9.08866101e-01  6.93795704e-01  2.55991336e-01\n",
            "  2.60241347e-01  6.43475119e-01  5.15390258e-01 -4.00584114e-01\n",
            " -3.03246253e-02 -1.18637752e-01  2.24939763e-01 -3.27389064e-01\n",
            "  6.76029234e-01  6.96055548e-01  1.27841253e+00  1.00528850e+00\n",
            "  7.37180635e-01  7.92531156e-01  1.14748178e+00  1.61319384e+00\n",
            "  3.88434042e+02]\n",
            "dimension= 30\n",
            "======== 30 ========\n",
            "run= 4 total=50 Fobj= 3324.5465598419105 Time= 0.04485275745391846\n",
            "DE_POP_VAR_F_CR TOTAL= 30000 Iterações= 100 Dim= 30 Min/Max= -10 / 10 _ Rosenbrock\n",
            "_DE_STAT_Fo-0.5_CRo-0.5_D-30_Interv-100 \n",
            "\n",
            "MÉDIA:  3324.5465598419105\n",
            "MIN __: 3324.5465598419105\n",
            "MAX__:  3324.5465598419105\n",
            "STD __: 0.0\n",
            "Tempo Médio= 0.538 segundos ---\n",
            "5 Rodadas\n",
            "\n",
            "BEST:  [ 3.89698989e-01  1.30484458e+00 -7.63967236e-01  9.86843320e-01\n",
            "  1.10840919e+00  5.28852077e-01  1.81622636e-01 -2.47473652e-01\n",
            "  1.73759568e-01 -5.53232138e-01 -9.59951381e-01 -5.91647823e-01\n",
            "  5.81172842e-01 -5.92992281e-01 -6.06989637e-01  1.42224175e+00\n",
            "  1.36415286e+00  8.26459602e-01  4.92242402e-01  1.19451308e-01\n",
            " -5.65231478e-01  1.38732039e+00 -6.56563711e-01 -7.77877811e-01\n",
            "  6.18141551e-01  9.03994702e-01  1.22687389e+00  4.37440890e-01\n",
            "  2.06981876e+00  5.42013054e+00  3.32454656e+03]\n"
          ],
          "name": "stdout"
        }
      ]
    },
    {
      "cell_type": "code",
      "metadata": {
        "id": "z5YbBjiKvOUB",
        "outputId": "273ebaa7-c3aa-4590-aef0-ff16d1e32f3d",
        "colab": {
          "base_uri": "https://localhost:8080/"
        }
      },
      "source": [
        "X.shape"
      ],
      "execution_count": 6,
      "outputs": [
        {
          "output_type": "execute_result",
          "data": {
            "text/plain": [
              "(20, 30)"
            ]
          },
          "metadata": {
            "tags": []
          },
          "execution_count": 6
        }
      ]
    },
    {
      "cell_type": "code",
      "metadata": {
        "id": "S-xIzqEyUPT1",
        "outputId": "45a3dd75-262e-4d3c-b6d1-b664d52ec120",
        "colab": {
          "base_uri": "https://localhost:8080/"
        }
      },
      "source": [
        "print(pd.DataFrame(MAT_Div))"
      ],
      "execution_count": 7,
      "outputs": [
        {
          "output_type": "stream",
          "text": [
            "         0         1         2   ...        97        98        99\n",
            "0  0.900209  0.866175  0.818188  ...  0.011912  0.011915  0.012087\n",
            "1  0.923593  0.850484  0.808960  ...  0.033410  0.032748  0.032320\n",
            "2  0.936961  0.907824  0.904891  ...  0.042823  0.043823  0.044289\n",
            "3  0.977066  0.961607  0.930409  ...  0.090901  0.089278  0.089092\n",
            "4  0.968380  0.968380  0.958521  ...  0.196000  0.196539  0.189732\n",
            "\n",
            "[5 rows x 100 columns]\n"
          ],
          "name": "stdout"
        }
      ]
    },
    {
      "cell_type": "code",
      "metadata": {
        "id": "ce2qpWr2fWJv"
      },
      "source": [
        ""
      ],
      "execution_count": 7,
      "outputs": []
    },
    {
      "cell_type": "code",
      "metadata": {
        "id": "NOjA0fDDfWoZ",
        "outputId": "1a8fa637-fec1-4954-ef96-b7c49a0a93fc",
        "colab": {
          "base_uri": "https://localhost:8080/"
        }
      },
      "source": [
        "start_time = time.time()\n",
        "BEST_AGENTS=[]\n",
        "MAT_Div_Fake=[]\n",
        "\n",
        "for i in range(RUNS):\n",
        "\n",
        "    fchoice='Fake_Rosenbrock'  \n",
        "    Fun=Function.Fake_Rosenbrock\n",
        "    #fchoice='Rosenbrock'  \n",
        "    #Fun=Function.Rosenbrock\n",
        "    \n",
        "\n",
        "    dim=Dimension[i]\n",
        "    \n",
        "    TOTAL=10*dim*its*ITE\n",
        "\n",
        "    print('dimension=',dim)\n",
        "\n",
        "    MIN,MAX=Go2MinMax.Intervalo(dim,fchoice)\n",
        "\n",
        "    pop = np.random.rand(NPAR, dim)\n",
        "    diff=np.zeros(dim)\n",
        "    for ii in range(dim):\n",
        "      diff[ii] = MAX[ii]-MIN[ii]\n",
        "    X = MIN + pop * diff\n",
        "    Div_initial=Diversity(X)\n",
        "    #print('=====',X[1,1],'======')\n",
        "    \n",
        "    Div_dim=[]\n",
        "    BEST_AGENTS=[]\n",
        "    SOMA=0\n",
        "\n",
        "    for k in range(ITE):\n",
        "      X,BEST,FOBEST,XY,BEST_XY,SOMA= de_soma_Insight.de(MAX,MIN, mut, crossp,NPAR,its,Fun,X,SOMA,TOTAL)\n",
        "      \n",
        "      if((k+1)%1==0):\n",
        "        #print(X[1,1])\n",
        "        Div_time=Diversity(X)\n",
        "        DI=Div_time/Div_initial\n",
        "        Div_dim.append(DI)\n",
        "\n",
        "    BEST_AGENTS.append(BEST_XY)    \n",
        "    MAT_Div_Fake.append(Div_dim)\n",
        "    start_run = (time.time()-start_time)/60\n",
        "    print('run=',i,'total=50','Fobj=',FOBEST,'Time=',start_run)  \n",
        "    \n",
        "\n",
        "    ############################## Cálculo dos Parâmetros de Avaliação   \n",
        "    TIME = (time.time() - start_time)/RUNS\n",
        "    BEST_AGENTS=np.array(BEST_AGENTS)\n",
        "    BEST_AGENTS_ST= BEST_AGENTS[BEST_AGENTS[:,-1].argsort()]\n",
        "    BEST=BEST_AGENTS_ST[0]\n",
        "    WORSE=BEST_AGENTS_ST[-1]\n",
        "    MEAN=np.mean(BEST_AGENTS,axis=0)\n",
        "    MAXFO=BEST_AGENTS[:,-1].max()\n",
        "    MINFO=BEST_AGENTS[:,-1].min()\n",
        "    STD=BEST_AGENTS[:,-1].std()\n",
        "\n",
        "    nome='_DE_STAT_Fo-'+str(mut)+'_CRo-'+str(crossp)+'_D-'+str(dim)+'_Interv-'+str(ITE)\n",
        "    print('DE_POP_VAR_F_CR','TOTAL=',TOTAL,'Iterações=',ITE*its,'Dim=', dim,\"Min/Max=\",MIN[0],\"/\",MAX[0],'_',Fun.__name__)\n",
        "    print(nome, '\\n')\n",
        "    #print('BEST: ',BEST)\n",
        "    #print('MÉDIA: ',MEAN)\n",
        "    print('MÉDIA: ',MEAN[-1])\n",
        "    print('MIN __:',MINFO)\n",
        "    print('MAX__: ',MAXFO)\n",
        "    print('STD __:',STD)\n",
        "    print(\"Tempo Médio= %.3f segundos ---\" % (TIME))\n",
        "    print(RUNS,'Rodadas') \n",
        "    print()\n",
        "    print('BEST: ',BEST)\n",
        "    # print('melhor=',BEST_AGENTS[BEST_INDEX])"
      ],
      "execution_count": 8,
      "outputs": [
        {
          "output_type": "stream",
          "text": [
            "dimension= 5\n",
            "run= 0 total=50 Fobj= 0.0008375760369423613 Time= 0.0037331541379292807\n",
            "DE_POP_VAR_F_CR TOTAL= 5000 Iterações= 100 Dim= 5 Min/Max= -10 / 10 _ Fake_Rosenbrock\n",
            "_DE_STAT_Fo-0.5_CRo-0.5_D-5_Interv-100 \n",
            "\n",
            "MÉDIA:  0.0008375760369423613\n",
            "MIN __: 0.0008375760369423613\n",
            "MAX__:  0.0008375760369423613\n",
            "STD __: 0.0\n",
            "Tempo Médio= 0.045 segundos ---\n",
            "5 Rodadas\n",
            "\n",
            "BEST:  [-5.51465141e+00 -2.62283318e+00  9.80479949e-01  9.59204243e-01\n",
            "  1.08156846e+00  8.37576037e-04]\n",
            "dimension= 10\n",
            "run= 1 total=50 Fobj= 2.1562169260586678e-05 Time= 0.009972087542215983\n",
            "DE_POP_VAR_F_CR TOTAL= 10000 Iterações= 100 Dim= 10 Min/Max= -10 / 10 _ Fake_Rosenbrock\n",
            "_DE_STAT_Fo-0.5_CRo-0.5_D-10_Interv-100 \n",
            "\n",
            "MÉDIA:  2.1562169260586678e-05\n",
            "MIN __: 2.1562169260586678e-05\n",
            "MAX__:  2.1562169260586678e-05\n",
            "STD __: 0.0\n",
            "Tempo Médio= 0.120 segundos ---\n",
            "5 Rodadas\n",
            "\n",
            "BEST:  [-3.22876557e+00 -5.28827478e+00  1.00000000e+01  2.04789794e+00\n",
            "  8.78675992e+00 -9.59340624e+00  8.18086997e+00  9.97614049e-01\n",
            "  9.94835427e-01 -2.91519221e+00  2.15621693e-05]\n",
            "dimension= 15\n",
            "run= 2 total=50 Fobj= 0.02678228067637501 Time= 0.018185973167419434\n",
            "DE_POP_VAR_F_CR TOTAL= 15000 Iterações= 100 Dim= 15 Min/Max= -10 / 10 _ Fake_Rosenbrock\n",
            "_DE_STAT_Fo-0.5_CRo-0.5_D-15_Interv-100 \n",
            "\n",
            "MÉDIA:  0.02678228067637501\n",
            "MIN __: 0.02678228067637501\n",
            "MAX__:  0.02678228067637501\n",
            "STD __: 0.0\n",
            "Tempo Médio= 0.218 segundos ---\n",
            "5 Rodadas\n",
            "\n",
            "BEST:  [ 10.          -7.21598852   8.83748338 -10.           3.22766722\n",
            "  10.          10.          -6.57580797  -0.17812479   1.82492814\n",
            "  -1.30110991   2.66245863   0.84057822   0.70287448  -3.21053646\n",
            "   0.02678228]\n",
            "dimension= 20\n",
            "run= 3 total=50 Fobj= 0.0005827349409538562 Time= 0.028411821524302164\n",
            "DE_POP_VAR_F_CR TOTAL= 20000 Iterações= 100 Dim= 20 Min/Max= -10 / 10 _ Fake_Rosenbrock\n",
            "_DE_STAT_Fo-0.5_CRo-0.5_D-20_Interv-100 \n",
            "\n",
            "MÉDIA:  0.0005827349409538562\n",
            "MIN __: 0.0005827349409538562\n",
            "MAX__:  0.0005827349409538562\n",
            "STD __: 0.0\n",
            "Tempo Médio= 0.341 segundos ---\n",
            "5 Rodadas\n",
            "\n",
            "BEST:  [ 8.39804183e+00 -8.19721604e+00  2.81257639e+00  1.00000000e+01\n",
            " -6.01950196e+00 -9.28635663e+00 -2.67223692e+00 -5.73617030e+00\n",
            "  9.22062446e+00 -8.00675648e+00 -5.84304849e+00 -4.17379243e+00\n",
            " -7.56506208e+00  1.00020801e+00 -7.62699028e-01 -3.56756140e+00\n",
            " -1.00000000e+01  9.81414397e-01  9.61633731e-01 -1.58346194e+00\n",
            "  5.82734941e-04]\n",
            "dimension= 30\n",
            "run= 4 total=50 Fobj= 4.214537902781495e-05 Time= 0.04276868899663289\n",
            "DE_POP_VAR_F_CR TOTAL= 30000 Iterações= 100 Dim= 30 Min/Max= -10 / 10 _ Fake_Rosenbrock\n",
            "_DE_STAT_Fo-0.5_CRo-0.5_D-30_Interv-100 \n",
            "\n",
            "MÉDIA:  4.214537902781495e-05\n",
            "MIN __: 4.214537902781495e-05\n",
            "MAX__:  4.214537902781495e-05\n",
            "STD __: 0.0\n",
            "Tempo Médio= 0.513 segundos ---\n",
            "5 Rodadas\n",
            "\n",
            "BEST:  [ 6.86411672e+00  7.08225211e+00 -1.00000000e+01 -1.57749165e+00\n",
            " -4.14276468e+00 -9.30788035e+00 -5.37789926e+00  1.00000000e+01\n",
            " -4.31123041e+00 -1.00000000e+01 -5.82266655e+00 -4.60105402e+00\n",
            " -4.77520810e-01 -1.29899740e+00 -6.18809220e-01 -1.00000000e+01\n",
            "  2.52367696e+00  1.00000000e+01 -8.98103363e+00 -1.00000000e+01\n",
            " -1.34117406e+00  6.34198236e+00  8.44024783e+00 -8.61167132e+00\n",
            " -1.86969421e+00  9.01561528e+00 -3.63382728e+00  1.00266006e+00\n",
            "  1.00591940e+00 -1.00000000e+01  4.21453790e-05]\n"
          ],
          "name": "stdout"
        }
      ]
    },
    {
      "cell_type": "code",
      "metadata": {
        "id": "GCNGqb9hfs48",
        "outputId": "37b83b5c-aa02-43c9-b06c-ba4b3415d8e8",
        "colab": {
          "base_uri": "https://localhost:8080/"
        }
      },
      "source": [
        "print(pd.DataFrame(MAT_Div_Fake))"
      ],
      "execution_count": 9,
      "outputs": [
        {
          "output_type": "stream",
          "text": [
            "         0         1         2   ...        97        98        99\n",
            "0  0.982482  0.975011  0.907603  ...  0.722976  0.700036  0.697121\n",
            "1  0.981218  0.973669  0.998071  ...  0.921094  0.921094  0.921094\n",
            "2  0.969735  0.990920  0.976229  ...  0.922043  0.926972  0.908523\n",
            "3  0.989396  0.962236  0.951598  ...  0.946806  0.946806  0.949254\n",
            "4  0.994642  1.004092  0.988722  ...  0.926250  0.938215  0.940736\n",
            "\n",
            "[5 rows x 100 columns]\n"
          ],
          "name": "stdout"
        }
      ]
    },
    {
      "cell_type": "code",
      "metadata": {
        "id": "UoCrbIfwiU7v",
        "outputId": "76ef980f-59e3-428e-87cb-a492d625000c",
        "colab": {
          "base_uri": "https://localhost:8080/",
          "height": 619
        }
      },
      "source": [
        "Legends=['a)', 'b)','c)','d)','e)','f)','g)','h)','i)','j)','k)','l)','m)', 'n)']\n",
        "xite=range(1,101)\n",
        "for i in range(RUNS):\n",
        "\n",
        "  plt.subplot(2,3,i+1)\n",
        "  plt.plot(xite,pd.DataFrame(MAT_Div_Fake).iloc[i],'k--',xite,pd.DataFrame(MAT_Div).iloc[i],'k-', linewidth=2)\n",
        "  plt.xlim(0, 100)\n",
        "  plt.ylim(0, 1.4)\n",
        "  plt.text(-0.2,1.5,Legends[i],fontsize=16)\n",
        "  #plt.legend( ('SeiCo', 'Rosenbrock'), loc=[90,0.8], fontsize=10)\n",
        "  plt.legend( ('SeiCo', 'Rosenbrock'), loc=[0.5,0.8], fontsize=10)\n",
        "  #plt.text(-0.2,1.2,Legends[i],fontsize=16)\n",
        "  plt.xlabel('Iterations', fontsize=14)\n",
        "  plt.ylabel('DIr', fontsize=14)\n",
        "  plt.grid(True, linewidth=1,color='gray')\n",
        "  plt.tick_params(axis='both', which='major', labelsize=15)\n",
        "\n",
        "plt.subplots_adjust(bottom=0.2, right=2, left=0.3, top=2,hspace=0.4, wspace=0.4)\n",
        "\n",
        "plt.subplot(2,3,RUNS+1)\n",
        "plt.plot()\n",
        "plt.ylim(0, 1.2)     # set the ylim to bottom, top\n",
        "plt.xlim(0, 100)     # set the ylim to bottom, top\n",
        "plt.axis('off')\n",
        "plt.text(1,1,'Legend:',fontsize=15, color = 'k')\n",
        "for i in range(RUNS):\n",
        "  nome=Legends[i]+' dim='+str(Dimension[i])\n",
        "  y=1.2-i*0.2-0.4\n",
        "  plt.text(1,y,nome,fontsize=14, color = 'k')\n",
        "\n",
        "'''\n",
        "plt.legend( ('SeiCo', 'Rosenbrock'), loc=[1,5], fontsize=10)\n",
        "'''"
      ],
      "execution_count": 10,
      "outputs": [
        {
          "output_type": "execute_result",
          "data": {
            "application/vnd.google.colaboratory.intrinsic+json": {
              "type": "string"
            },
            "text/plain": [
              "\"\\nplt.legend( ('SeiCo', 'Rosenbrock'), loc=[1,5], fontsize=10)\\n\""
            ]
          },
          "metadata": {
            "tags": []
          },
          "execution_count": 10
        },
        {
          "output_type": "display_data",
          "data": {
            "image/png": "[encoded data removed]",
            "text/plain": [
              "<Figure size 432x288 with 6 Axes>"
            ]
          },
          "metadata": {
            "tags": [],
            "needs_background": "light"
          }
        }
      ]
    }
  ]
}