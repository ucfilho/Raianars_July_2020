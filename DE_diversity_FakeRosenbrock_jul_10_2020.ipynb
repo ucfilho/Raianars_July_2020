{
  "nbformat": 4,
  "nbformat_minor": 0,
  "metadata": {
    "accelerator": "GPU",
    "colab": {
      "name": "DE_diversity_FakeRosenbrock_jul_10_2020.ipynb",
      "provenance": [],
      "collapsed_sections": [],
      "include_colab_link": true
    },
    "kernelspec": {
      "display_name": "Python 3",
      "language": "python",
      "name": "python3"
    },
    "language_info": {
      "codemirror_mode": {
        "name": "ipython",
        "version": 3
      },
      "file_extension": ".py",
      "mimetype": "text/x-python",
      "name": "python",
      "nbconvert_exporter": "python",
      "pygments_lexer": "ipython3",
      "version": "3.6.1"
    }
  },
  "cells": [
    {
      "cell_type": "markdown",
      "metadata": {
        "id": "view-in-github",
        "colab_type": "text"
      },
      "source": [
        "<a href=\"https://colab.research.google.com/github/ucfilho/Raianars_July_2020/blob/master/DE_diversity_FakeRosenbrock_jul_10_2020.ipynb\" target=\"_parent\"><img src=\"https://colab.research.google.com/assets/colab-badge.svg\" alt=\"Open In Colab\"/></a>"
      ]
    },
    {
      "cell_type": "code",
      "metadata": {
        "colab_type": "code",
        "id": "v1OxgXboBKoG",
        "colab": {}
      },
      "source": [
        "import time\n",
        "import matplotlib.pyplot as plt\n",
        "import numpy as np\n",
        "from random import randint\n",
        "import pandas as pd\n",
        "import matplotlib.pyplot as plt"
      ],
      "execution_count": 1,
      "outputs": []
    },
    {
      "cell_type": "code",
      "metadata": {
        "id": "qMRpE0dGULCI",
        "colab_type": "code",
        "colab": {
          "base_uri": "https://localhost:8080/",
          "height": 52
        },
        "outputId": "5c267648-c845-4ac9-de8b-e3c059cae848"
      },
      "source": [
        "!git clone https://github.com/ucfilho/Raianars_July_2020 #clonar do Github\n",
        "%cd Raianars_July_2020"
      ],
      "execution_count": 2,
      "outputs": [
        {
          "output_type": "stream",
          "text": [
            "fatal: destination path 'Raianars_July_2020' already exists and is not an empty directory.\n",
            "/content/Raianars_July_2020\n"
          ],
          "name": "stdout"
        }
      ]
    },
    {
      "cell_type": "code",
      "metadata": {
        "colab_type": "code",
        "id": "_E15mKFURR6O",
        "colab": {}
      },
      "source": [
        "import de_soma_Insight\n",
        "import de_bounds_matriz\n",
        "import Function\n",
        "import Go2MinMax\n",
        "from AvaliaX import AvaliaX\n",
        "\n",
        "\n",
        "############################### DADOS DE ENTRADA \n",
        "its=1 #10 # quantas vezes vai usar o NPAR antes de alterar de novo\n",
        "ITE=100 #10 # PONTOS quantas vezes vai alteral NPAR \n",
        "NPAR=20 # NUMBER OF PARTICLES\n",
        "\n",
        "\n",
        "\n",
        "mut=0.5\n",
        "crossp=0.5\n",
        "RUNS=5\n",
        "Dimension=[5,10,15,20,30]\n",
        "\n",
        "\n",
        "\n",
        "SOMA=0"
      ],
      "execution_count": 3,
      "outputs": []
    },
    {
      "cell_type": "code",
      "metadata": {
        "id": "JMSnGtTwQ51s",
        "colab_type": "code",
        "colab": {}
      },
      "source": [
        "def Diversity(X):\n",
        "  soma=0\n",
        "  nrow,ncol=X.shape\n",
        "  for j in range(ncol):\n",
        "    Xj=np.mean(X[:,j])\n",
        "    for i in range(nrow):\n",
        "        soma=soma+(X[i,j]-Xj)**2\n",
        "  DI=(soma/nrow)**0.5\n",
        "  return DI"
      ],
      "execution_count": 4,
      "outputs": []
    },
    {
      "cell_type": "code",
      "metadata": {
        "colab_type": "code",
        "id": "5D-wTmX6SZ4j",
        "colab": {
          "base_uri": "https://localhost:8080/",
          "height": 1000
        },
        "outputId": "81da4bc1-bf5c-4ea4-d1e1-fd9d04cc1804"
      },
      "source": [
        "start_time = time.time()\n",
        "BEST_AGENTS=[]\n",
        "MAT_Div=[]\n",
        "\n",
        "for i in range(RUNS):\n",
        "\n",
        "    #fchoice='Fake_Rosenbrock'  \n",
        "    #Fun=Function.Fake_Rosenbrock\n",
        "    fchoice='Rosenbrock'  \n",
        "    Fun=Function.Rosenbrock\n",
        "    \n",
        "\n",
        "    dim=Dimension[i]\n",
        "    \n",
        "    TOTAL=10*dim*its*ITE\n",
        "\n",
        "    \n",
        "\n",
        "    MIN,MAX=Go2MinMax.Intervalo(dim,fchoice)\n",
        "\n",
        "    pop = np.random.rand(NPAR, dim)\n",
        "    diff=np.zeros(dim)\n",
        "    for ii in range(dim):\n",
        "      diff[ii] = MAX[ii]-MIN[ii]\n",
        "    X = MIN + pop * diff\n",
        "    Div_initial=Diversity(X)\n",
        "    #print('=====',X[1,1],'======')\n",
        "    \n",
        "    Div_dim=[]\n",
        "    BEST_AGENTS=[]\n",
        "    SOMA=0\n",
        "\n",
        "    print('dimension=',dim)\n",
        "    print('========',len(MAX),'========')\n",
        "\n",
        "    for k in range(ITE):\n",
        "      X,BEST,FOBEST,XY,BEST_XY,SOMA= de_soma_Insight.de(MAX,MIN, mut, crossp,NPAR,its,Fun,X,SOMA,TOTAL)\n",
        "      \n",
        "      if((k+1)%1==0):\n",
        "        #print(X[1,1])\n",
        "        Div_time=Diversity(X)\n",
        "        DI=Div_time/Div_initial\n",
        "        Div_dim.append(DI)\n",
        "\n",
        "    BEST_AGENTS.append(BEST_XY)    \n",
        "    MAT_Div.append(Div_dim)\n",
        "    start_run = (time.time()-start_time)/60\n",
        "    print('run=',i,'total=50','Fobj=',FOBEST,'Time=',start_run)  \n",
        "    \n",
        "\n",
        "    ############################## Cálculo dos Parâmetros de Avaliação   \n",
        "    TIME = (time.time() - start_time)/RUNS\n",
        "    BEST_AGENTS=np.array(BEST_AGENTS)\n",
        "    BEST_AGENTS_ST= BEST_AGENTS[BEST_AGENTS[:,-1].argsort()]\n",
        "    BEST=BEST_AGENTS_ST[0]\n",
        "    WORSE=BEST_AGENTS_ST[-1]\n",
        "    MEAN=np.mean(BEST_AGENTS,axis=0)\n",
        "    MAXFO=BEST_AGENTS[:,-1].max()\n",
        "    MINFO=BEST_AGENTS[:,-1].min()\n",
        "    STD=BEST_AGENTS[:,-1].std()\n",
        "\n",
        "    nome='_DE_STAT_Fo-'+str(mut)+'_CRo-'+str(crossp)+'_D-'+str(dim)+'_Interv-'+str(ITE)\n",
        "    print('DE_POP_VAR_F_CR','TOTAL=',TOTAL,'Iterações=',ITE*its,'Dim=', dim,\"Min/Max=\",MIN[0],\"/\",MAX[0],'_',Fun.__name__)\n",
        "    print(nome, '\\n')\n",
        "    #print('BEST: ',BEST)\n",
        "    #print('MÉDIA: ',MEAN)\n",
        "    print('MÉDIA: ',MEAN[-1])\n",
        "    print('MIN __:',MINFO)\n",
        "    print('MAX__: ',MAXFO)\n",
        "    print('STD __:',STD)\n",
        "    print(\"Tempo Médio= %.3f segundos ---\" % (TIME))\n",
        "    print(RUNS,'Rodadas') \n",
        "    print()\n",
        "    print('BEST: ',BEST)\n",
        "    # print('melhor=',BEST_AGENTS[BEST_INDEX])"
      ],
      "execution_count": 5,
      "outputs": [
        {
          "output_type": "stream",
          "text": [
            "dimension= 5\n",
            "======== 5 ========\n",
            "run= 0 total=50 Fobj= 1.8815487717687334 Time= 0.003983910878499349\n",
            "DE_POP_VAR_F_CR TOTAL= 5000 Iterações= 100 Dim= 5 Min/Max= -10 / 10 _ Rosenbrock\n",
            "_DE_STAT_Fo-0.5_CRo-0.5_D-5_Interv-100 \n",
            "\n",
            "MÉDIA:  1.8815487717687334\n",
            "MIN __: 1.8815487717687334\n",
            "MAX__:  1.8815487717687334\n",
            "STD __: 0.0\n",
            "Tempo Médio= 0.048 segundos ---\n",
            "5 Rodadas\n",
            "\n",
            "BEST:  [0.70329747 0.51366771 0.26069499 0.0454636  0.01275174 1.88154877]\n",
            "dimension= 10\n",
            "======== 10 ========\n",
            "run= 1 total=50 Fobj= 39.23467435310383 Time= 0.0103819211324056\n",
            "DE_POP_VAR_F_CR TOTAL= 10000 Iterações= 100 Dim= 10 Min/Max= -10 / 10 _ Rosenbrock\n",
            "_DE_STAT_Fo-0.5_CRo-0.5_D-10_Interv-100 \n",
            "\n",
            "MÉDIA:  39.23467435310383\n",
            "MIN __: 39.23467435310383\n",
            "MAX__:  39.23467435310383\n",
            "STD __: 0.0\n",
            "Tempo Médio= 0.125 segundos ---\n",
            "5 Rodadas\n",
            "\n",
            "BEST:  [ 8.03322394e-01  4.60226857e-01  4.13547180e-02  1.85792614e-02\n",
            "  1.86790182e-01  3.74573169e-02 -1.89438186e-01  2.46531172e-01\n",
            "  3.83381049e-01 -7.09310257e-02  3.92346744e+01]\n",
            "dimension= 15\n",
            "======== 15 ========\n",
            "run= 2 total=50 Fobj= 125.11260393398491 Time= 0.018766148885091146\n",
            "DE_POP_VAR_F_CR TOTAL= 15000 Iterações= 100 Dim= 15 Min/Max= -10 / 10 _ Rosenbrock\n",
            "_DE_STAT_Fo-0.5_CRo-0.5_D-15_Interv-100 \n",
            "\n",
            "MÉDIA:  125.11260393398491\n",
            "MIN __: 125.11260393398491\n",
            "MAX__:  125.11260393398491\n",
            "STD __: 0.0\n",
            "Tempo Médio= 0.225 segundos ---\n",
            "5 Rodadas\n",
            "\n",
            "BEST:  [ 6.66300248e-01  1.87435987e-01  2.21585524e-01  4.49909761e-01\n",
            "  7.70485725e-01  6.19548359e-01  7.14130972e-01  5.10626611e-03\n",
            "  6.91615953e-02  3.34995411e-01  2.49032591e-01 -2.86805556e-02\n",
            "  2.99806766e-01  1.16969797e-01  2.63052969e-02  1.25112604e+02]\n",
            "dimension= 20\n",
            "======== 20 ========\n",
            "run= 3 total=50 Fobj= 932.6388435970761 Time= 0.029623663425445555\n",
            "DE_POP_VAR_F_CR TOTAL= 20000 Iterações= 100 Dim= 20 Min/Max= -10 / 10 _ Rosenbrock\n",
            "_DE_STAT_Fo-0.5_CRo-0.5_D-20_Interv-100 \n",
            "\n",
            "MÉDIA:  932.6388435970761\n",
            "MIN __: 932.6388435970761\n",
            "MAX__:  932.6388435970761\n",
            "STD __: 0.0\n",
            "Tempo Médio= 0.356 segundos ---\n",
            "5 Rodadas\n",
            "\n",
            "BEST:  [ 3.80610526e-01  8.29535279e-01  1.37009309e+00  1.04471275e+00\n",
            "  6.58681074e-01  3.83702728e-02 -4.06406760e-01  1.58601531e-01\n",
            " -2.14836145e-01 -1.45937967e-02  2.88335767e-02 -2.92240728e-01\n",
            " -2.16458468e-01  1.02591858e+00 -8.27433201e-01  2.76558607e-01\n",
            " -1.94431030e-01 -6.55670737e-01 -5.02765715e-01 -5.56700058e-01\n",
            "  9.32638844e+02]\n",
            "dimension= 30\n",
            "======== 30 ========\n",
            "run= 4 total=50 Fobj= 9668.600857681695 Time= 0.04477609793345134\n",
            "DE_POP_VAR_F_CR TOTAL= 30000 Iterações= 100 Dim= 30 Min/Max= -10 / 10 _ Rosenbrock\n",
            "_DE_STAT_Fo-0.5_CRo-0.5_D-30_Interv-100 \n",
            "\n",
            "MÉDIA:  9668.600857681695\n",
            "MIN __: 9668.600857681695\n",
            "MAX__:  9668.600857681695\n",
            "STD __: 0.0\n",
            "Tempo Médio= 0.537 segundos ---\n",
            "5 Rodadas\n",
            "\n",
            "BEST:  [ 3.75461238e-01 -5.44921076e-01  1.44048018e+00 -2.80802472e-01\n",
            "  1.06662578e+00  1.62627056e+00  8.10133608e-01 -3.34789858e-01\n",
            "  1.05541293e-01  1.01649018e+00  1.59338030e+00  1.76890136e+00\n",
            " -6.58544405e-01  1.93914624e+00  2.43166615e+00  9.14228277e-01\n",
            "  9.02375906e-01 -5.69243417e-01  1.12196379e+00 -6.62590982e-01\n",
            "  1.23580482e+00 -1.20284527e+00  1.81536109e+00  4.10453848e-01\n",
            "  8.65064863e-01 -1.12599184e+00 -6.48475480e-01 -2.02840080e+00\n",
            "  3.31157998e+00  1.00000000e+01  9.66860086e+03]\n"
          ],
          "name": "stdout"
        }
      ]
    },
    {
      "cell_type": "code",
      "metadata": {
        "id": "z5YbBjiKvOUB",
        "colab_type": "code",
        "colab": {
          "base_uri": "https://localhost:8080/",
          "height": 34
        },
        "outputId": "d7d73847-b9a8-4e6f-da28-281f80c2255c"
      },
      "source": [
        "X.shape"
      ],
      "execution_count": 6,
      "outputs": [
        {
          "output_type": "execute_result",
          "data": {
            "text/plain": [
              "(20, 30)"
            ]
          },
          "metadata": {
            "tags": []
          },
          "execution_count": 6
        }
      ]
    },
    {
      "cell_type": "code",
      "metadata": {
        "id": "S-xIzqEyUPT1",
        "colab_type": "code",
        "colab": {
          "base_uri": "https://localhost:8080/",
          "height": 158
        },
        "outputId": "7cfa22f0-c325-40d3-81ba-11cbe1094b54"
      },
      "source": [
        "print(pd.DataFrame(MAT_Div))"
      ],
      "execution_count": 7,
      "outputs": [
        {
          "output_type": "stream",
          "text": [
            "         0         1         2   ...        97        98        99\n",
            "0  0.988879  0.921642  0.843044  ...  0.008042  0.007844  0.007820\n",
            "1  0.981573  0.943168  0.907088  ...  0.056944  0.055703  0.056222\n",
            "2  0.949664  0.903931  0.887866  ...  0.114554  0.114638  0.107440\n",
            "3  0.997841  0.956805  0.935180  ...  0.167730  0.168936  0.162613\n",
            "4  0.984263  0.961353  0.932078  ...  0.244941  0.244103  0.250167\n",
            "\n",
            "[5 rows x 100 columns]\n"
          ],
          "name": "stdout"
        }
      ]
    },
    {
      "cell_type": "code",
      "metadata": {
        "id": "ce2qpWr2fWJv",
        "colab_type": "code",
        "colab": {}
      },
      "source": [
        ""
      ],
      "execution_count": 7,
      "outputs": []
    },
    {
      "cell_type": "code",
      "metadata": {
        "colab_type": "code",
        "id": "NOjA0fDDfWoZ",
        "colab": {
          "base_uri": "https://localhost:8080/",
          "height": 1000
        },
        "outputId": "db814ce5-cd0b-414f-fb0d-ffe565800da7"
      },
      "source": [
        "start_time = time.time()\n",
        "BEST_AGENTS=[]\n",
        "MAT_Div_Fake=[]\n",
        "\n",
        "for i in range(RUNS):\n",
        "\n",
        "    fchoice='Fake_Rosenbrock'  \n",
        "    Fun=Function.Fake_Rosenbrock\n",
        "    #fchoice='Rosenbrock'  \n",
        "    #Fun=Function.Rosenbrock\n",
        "    \n",
        "\n",
        "    dim=Dimension[i]\n",
        "    \n",
        "    TOTAL=10*dim*its*ITE\n",
        "\n",
        "    print('dimension=',dim)\n",
        "\n",
        "    MIN,MAX=Go2MinMax.Intervalo(dim,fchoice)\n",
        "\n",
        "    pop = np.random.rand(NPAR, dim)\n",
        "    diff=np.zeros(dim)\n",
        "    for ii in range(dim):\n",
        "      diff[ii] = MAX[ii]-MIN[ii]\n",
        "    X = MIN + pop * diff\n",
        "    Div_initial=Diversity(X)\n",
        "    #print('=====',X[1,1],'======')\n",
        "    \n",
        "    Div_dim=[]\n",
        "    BEST_AGENTS=[]\n",
        "    SOMA=0\n",
        "\n",
        "    for k in range(ITE):\n",
        "      X,BEST,FOBEST,XY,BEST_XY,SOMA= de_soma_Insight.de(MAX,MIN, mut, crossp,NPAR,its,Fun,X,SOMA,TOTAL)\n",
        "      \n",
        "      if((k+1)%1==0):\n",
        "        #print(X[1,1])\n",
        "        Div_time=Diversity(X)\n",
        "        DI=Div_time/Div_initial\n",
        "        Div_dim.append(DI)\n",
        "\n",
        "    BEST_AGENTS.append(BEST_XY)    \n",
        "    MAT_Div_Fake.append(Div_dim)\n",
        "    start_run = (time.time()-start_time)/60\n",
        "    print('run=',i,'total=50','Fobj=',FOBEST,'Time=',start_run)  \n",
        "    \n",
        "\n",
        "    ############################## Cálculo dos Parâmetros de Avaliação   \n",
        "    TIME = (time.time() - start_time)/RUNS\n",
        "    BEST_AGENTS=np.array(BEST_AGENTS)\n",
        "    BEST_AGENTS_ST= BEST_AGENTS[BEST_AGENTS[:,-1].argsort()]\n",
        "    BEST=BEST_AGENTS_ST[0]\n",
        "    WORSE=BEST_AGENTS_ST[-1]\n",
        "    MEAN=np.mean(BEST_AGENTS,axis=0)\n",
        "    MAXFO=BEST_AGENTS[:,-1].max()\n",
        "    MINFO=BEST_AGENTS[:,-1].min()\n",
        "    STD=BEST_AGENTS[:,-1].std()\n",
        "\n",
        "    nome='_DE_STAT_Fo-'+str(mut)+'_CRo-'+str(crossp)+'_D-'+str(dim)+'_Interv-'+str(ITE)\n",
        "    print('DE_POP_VAR_F_CR','TOTAL=',TOTAL,'Iterações=',ITE*its,'Dim=', dim,\"Min/Max=\",MIN[0],\"/\",MAX[0],'_',Fun.__name__)\n",
        "    print(nome, '\\n')\n",
        "    #print('BEST: ',BEST)\n",
        "    #print('MÉDIA: ',MEAN)\n",
        "    print('MÉDIA: ',MEAN[-1])\n",
        "    print('MIN __:',MINFO)\n",
        "    print('MAX__: ',MAXFO)\n",
        "    print('STD __:',STD)\n",
        "    print(\"Tempo Médio= %.3f segundos ---\" % (TIME))\n",
        "    print(RUNS,'Rodadas') \n",
        "    print()\n",
        "    print('BEST: ',BEST)\n",
        "    # print('melhor=',BEST_AGENTS[BEST_INDEX])"
      ],
      "execution_count": 8,
      "outputs": [
        {
          "output_type": "stream",
          "text": [
            "dimension= 5\n",
            "run= 0 total=50 Fobj= 0.0007457691278525937 Time= 0.004147477944691976\n",
            "DE_POP_VAR_F_CR TOTAL= 5000 Iterações= 100 Dim= 5 Min/Max= -10 / 10 _ Fake_Rosenbrock\n",
            "_DE_STAT_Fo-0.5_CRo-0.5_D-5_Interv-100 \n",
            "\n",
            "MÉDIA:  0.0007457691278525937\n",
            "MIN __: 0.0007457691278525937\n",
            "MAX__:  0.0007457691278525937\n",
            "STD __: 0.0\n",
            "Tempo Médio= 0.050 segundos ---\n",
            "5 Rodadas\n",
            "\n",
            "BEST:  [-1.87610834e+00  1.00000000e+01  9.80692698e-01  9.59826855e-01\n",
            " -8.17790226e+00  7.45769128e-04]\n",
            "dimension= 10\n",
            "run= 1 total=50 Fobj= 0.0046574552304841695 Time= 0.01036084493001302\n",
            "DE_POP_VAR_F_CR TOTAL= 10000 Iterações= 100 Dim= 10 Min/Max= -10 / 10 _ Fake_Rosenbrock\n",
            "_DE_STAT_Fo-0.5_CRo-0.5_D-10_Interv-100 \n",
            "\n",
            "MÉDIA:  0.0046574552304841695\n",
            "MIN __: 0.0046574552304841695\n",
            "MAX__:  0.0046574552304841695\n",
            "STD __: 0.0\n",
            "Tempo Médio= 0.124 segundos ---\n",
            "5 Rodadas\n",
            "\n",
            "BEST:  [-1.57028540e+00 -2.21253802e+00 -1.00000000e+01  3.24379454e+00\n",
            " -1.00000000e+01 -1.00000000e+01  4.06837806e+00  1.02403327e+00\n",
            "  1.04225675e+00 -1.37895435e+00  4.65745523e-03]\n",
            "dimension= 15\n",
            "run= 2 total=50 Fobj= 0.0037506878517426087 Time= 0.018807756900787353\n",
            "DE_POP_VAR_F_CR TOTAL= 15000 Iterações= 100 Dim= 15 Min/Max= -10 / 10 _ Fake_Rosenbrock\n",
            "_DE_STAT_Fo-0.5_CRo-0.5_D-15_Interv-100 \n",
            "\n",
            "MÉDIA:  0.0037506878517426087\n",
            "MIN __: 0.0037506878517426087\n",
            "MAX__:  0.0037506878517426087\n",
            "STD __: 0.0\n",
            "Tempo Médio= 0.226 segundos ---\n",
            "5 Rodadas\n",
            "\n",
            "BEST:  [ 8.73942255e-01 -9.31934525e-01  1.00000000e+01  2.12040646e+00\n",
            "  1.00000000e+01  1.00000000e+01 -7.68644308e+00  6.76873633e+00\n",
            "  1.05572262e-01 -1.00000000e+01 -1.00000000e+01  9.79869015e+00\n",
            "  1.04278604e+00  1.09178455e+00 -4.50800454e+00  3.75068785e-03]\n",
            "dimension= 20\n",
            "run= 3 total=50 Fobj= 0.015266980842051008 Time= 0.029241712888081868\n",
            "DE_POP_VAR_F_CR TOTAL= 20000 Iterações= 100 Dim= 20 Min/Max= -10 / 10 _ Fake_Rosenbrock\n",
            "_DE_STAT_Fo-0.5_CRo-0.5_D-20_Interv-100 \n",
            "\n",
            "MÉDIA:  0.015266980842051008\n",
            "MIN __: 0.015266980842051008\n",
            "MAX__:  0.015266980842051008\n",
            "STD __: 0.0\n",
            "Tempo Médio= 0.351 segundos ---\n",
            "5 Rodadas\n",
            "\n",
            "BEST:  [  2.4001226   -0.69663593  10.          -0.48761905  -1.96148153\n",
            "  -5.29758139   4.16724196 -10.           7.21022758  -1.81206127\n",
            "  -7.3401515    4.88196755  -6.45515199  10.          -3.31686426\n",
            "   5.47257069   6.81187362   0.89534101   0.79506782  -9.31240147\n",
            "   0.01526698]\n",
            "dimension= 30\n",
            "run= 4 total=50 Fobj= 2.1148186932403802e-05 Time= 0.044659618536631265\n",
            "DE_POP_VAR_F_CR TOTAL= 30000 Iterações= 100 Dim= 30 Min/Max= -10 / 10 _ Fake_Rosenbrock\n",
            "_DE_STAT_Fo-0.5_CRo-0.5_D-30_Interv-100 \n",
            "\n",
            "MÉDIA:  2.1148186932403802e-05\n",
            "MIN __: 2.1148186932403802e-05\n",
            "MAX__:  2.1148186932403802e-05\n",
            "STD __: 0.0\n",
            "Tempo Médio= 0.536 segundos ---\n",
            "5 Rodadas\n",
            "\n",
            "BEST:  [ 9.53195942e+00  1.04814447e+00 -6.73252035e+00 -5.78695680e+00\n",
            " -1.00000000e+01  4.26191178e+00  1.63807695e+00  1.00000000e+01\n",
            "  1.00000000e+01  1.00000000e+01  6.95511487e+00  1.00000000e+01\n",
            " -2.05691524e+00 -9.77247836e+00  5.32317212e+00 -1.43530061e+00\n",
            "  7.61240630e+00 -1.00000000e+01 -4.54741031e+00  1.00000000e+01\n",
            "  7.98627041e+00 -2.20827016e+00 -1.00000000e+01  8.11119733e+00\n",
            " -2.91561193e+00  3.46066384e+00  1.00000000e+01  1.00437909e+00\n",
            "  1.00891778e+00  4.38458626e+00  2.11481869e-05]\n"
          ],
          "name": "stdout"
        }
      ]
    },
    {
      "cell_type": "code",
      "metadata": {
        "id": "GCNGqb9hfs48",
        "colab_type": "code",
        "colab": {
          "base_uri": "https://localhost:8080/",
          "height": 158
        },
        "outputId": "ba149ac4-fc32-42ee-d977-9653cf0ef627"
      },
      "source": [
        "print(pd.DataFrame(MAT_Div_Fake))"
      ],
      "execution_count": 9,
      "outputs": [
        {
          "output_type": "stream",
          "text": [
            "         0         1         2   ...        97        98        99\n",
            "0  0.992658  0.995785  0.889524  ...  0.728845  0.728845  0.718729\n",
            "1  0.998731  0.991145  0.995429  ...  0.811643  0.781139  0.781139\n",
            "2  1.000615  0.974886  0.968280  ...  0.912691  0.919475  0.913030\n",
            "3  0.991858  1.005712  1.019837  ...  0.981886  0.987125  0.991456\n",
            "4  1.026564  1.017294  1.023547  ...  0.924745  0.928992  0.931144\n",
            "\n",
            "[5 rows x 100 columns]\n"
          ],
          "name": "stdout"
        }
      ]
    },
    {
      "cell_type": "code",
      "metadata": {
        "id": "UoCrbIfwiU7v",
        "colab_type": "code",
        "colab": {
          "base_uri": "https://localhost:8080/",
          "height": 635
        },
        "outputId": "b2234e60-a56e-4443-d669-c60c3f997f23"
      },
      "source": [
        "Legends=['a)', 'b)','c)','d)','e)','f)','g)','h)','i)','j)','k)','l)','m)', 'n)']\n",
        "xite=range(1,101)\n",
        "for i in range(RUNS):\n",
        "\n",
        "  plt.subplot(2,3,i+1)\n",
        "  plt.plot(xite,pd.DataFrame(MAT_Div_Fake).iloc[i],'k--',xite,pd.DataFrame(MAT_Div).iloc[i],'k-', linewidth=2)\n",
        "  plt.xlim(0, 100)\n",
        "  plt.ylim(0, 1.4)\n",
        "  plt.text(-0.2,1.5,Legends[i],fontsize=16)\n",
        "  #plt.legend( ('SeiCo', 'Rosenbrock'), loc=[90,0.8], fontsize=10)\n",
        "  plt.legend( ('SeiCo', 'Rosenbrock'), loc=[0.5,0.8], fontsize=10)\n",
        "  #plt.text(-0.2,1.2,Legends[i],fontsize=16)\n",
        "  plt.xlabel('Intearations', fontsize=14)\n",
        "  plt.ylabel('DIr', fontsize=14)\n",
        "  plt.grid(True, linewidth=1,color='gray')\n",
        "  plt.tick_params(axis='both', which='major', labelsize=15)\n",
        "\n",
        "plt.subplots_adjust(bottom=0.2, right=2, left=0.3, top=2,hspace=0.4, wspace=0.4)\n",
        "\n",
        "plt.subplot(2,3,RUNS+1)\n",
        "plt.plot()\n",
        "plt.ylim(0, 1.2)     # set the ylim to bottom, top\n",
        "plt.xlim(0, 100)     # set the ylim to bottom, top\n",
        "plt.axis('off')\n",
        "plt.text(1,1,'Legend:',fontsize=15, color = 'k')\n",
        "for i in range(RUNS):\n",
        "  nome=Legends[i]+' dim='+str(Dimension[i])\n",
        "  y=1.2-i*0.2-0.4\n",
        "  plt.text(1,y,nome,fontsize=14, color = 'k')\n",
        "\n",
        "'''\n",
        "plt.legend( ('SeiCo', 'Rosenbrock'), loc=[1,5], fontsize=10)\n",
        "'''"
      ],
      "execution_count": 10,
      "outputs": [
        {
          "output_type": "execute_result",
          "data": {
            "application/vnd.google.colaboratory.intrinsic": {
              "type": "string"
            },
            "text/plain": [
              "\"\\nplt.legend( ('SeiCo', 'Rosenbrock'), loc=[1,5], fontsize=10)\\n\""
            ]
          },
          "metadata": {
            "tags": []
          },
          "execution_count": 10
        },
        {
          "output_type": "display_data",
          "data": {
            "image/png": "[encoded data removed]",
            "text/plain": [
              "<Figure size 432x288 with 6 Axes>"
            ]
          },
          "metadata": {
            "tags": [],
            "needs_background": "light"
          }
        }
      ]
    }
  ]
}